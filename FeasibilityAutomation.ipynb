{
 "cells": [
  {
   "cell_type": "code",
   "execution_count": 1,
   "id": "a6c53747",
   "metadata": {},
   "outputs": [],
   "source": [
    "import arcpy\n",
    "from arcpy import env\n",
    "from arcpy.sa import *\n",
    "import argparse\n",
    "import tqdm \n",
    "import time "
   ]
  },
  {
   "cell_type": "code",
   "execution_count": 2,
   "id": "2f252d03",
   "metadata": {},
   "outputs": [],
   "source": [
    "\n",
    "env.workspace = 'C:/Users/JamieGood/OneDrive - Vaulted/Documents/VSCode/Data/MS.gdb'\n",
    "# contour_fc = 'Elev_Contours'\n",
    "# elevation_field = 'ContourElevations'\n",
    "# output_dem = 'C:/Users/JamieGood/OneDrive - Vaulted/Documents/VSCode/Data/MSdem_fromCreateDEM.tif'"
   ]
  },
  {
   "cell_type": "code",
   "execution_count": 3,
   "id": "b8bccf31",
   "metadata": {},
   "outputs": [],
   "source": [
    "def create_dem(contour_fc, elevation_field, output_dem): \n",
    "    arcpy.env.overwriteOutput = True\n",
    "    arcpy.CheckOutExtension(\"Spatial\")\n",
    "    if not arcpy.Exists(contour_fc):\n",
    "        raise Exception(f\"fc not found\")\n",
    "    field_names = [f.name for f in arcpy.ListFields(contour_fc)]\n",
    "    if elevation_field not in field_names:\n",
    "        raise Exception(f\"'{elevation_field}' was not found in {contour_fc}. Available fields are: {field_names}\")\n",
    "    try: \n",
    "        dem = TopoToRaster([[contour_fc, elevation_field, 'Contour']])\n",
    "    except Exception as e: \n",
    "        raise Exception(f\"Error with TopoToRaster: {str(e)}\")\n",
    "    try: \n",
    "        dem.save(output_dem)\n",
    "    except Exception as e: \n",
    "        raise Exception(f\"Error saving DEM: {str(e)}\")"
   ]
  },
  {
   "cell_type": "code",
   "execution_count": null,
   "id": "331bb018",
   "metadata": {},
   "outputs": [],
   "source": [
    "create_dem(contour_fc='Elev_Contours', elevation_field='ContourElevation', output_dem='C:/Users/JamieGood/OneDrive - Vaulted/Documents/VSCode/Data/MSdem_fromCreateDEM.tif')"
   ]
  },
  {
   "cell_type": "code",
   "execution_count": 4,
   "id": "c9203cbe",
   "metadata": {},
   "outputs": [],
   "source": [
    "env.workspace = 'C:/Users/JamieGood/OneDrive - Vaulted/Documents/VSCode/Data/MS.gdb'\n",
    "env.overwriteOutput = True"
   ]
  },
  {
   "cell_type": "code",
   "execution_count": 5,
   "id": "6f14e914",
   "metadata": {},
   "outputs": [],
   "source": [
    "contours = 'Elev_Contours'\n",
    "boundary = 'C:/Users/JamieGood/OneDrive - Vaulted/Documents/VSCode/Data/Boundary/MS_StateBoundary_2015.shp'\n",
    "clipped_contours = 'clipped_contours'\n",
    "output_DEM = 'C:/Users/JamieGood/OneDrive - Vaulted/Documents/VSCode/Data/dem.tif'"
   ]
  },
  {
   "cell_type": "code",
   "execution_count": 6,
   "id": "9d74d0f2",
   "metadata": {},
   "outputs": [
    {
     "data": {
      "text/html": [
       "<div class='gpresult'><h2 class='msg-title'>Messages</h2><div id='messages'>Start Time: Wednesday, April 16, 2025 9:12:27 AM<br>Analyzing input features...<br>Dissolving clip features...<br>Clipping input features...<br>Succeeded at Wednesday, April 16, 2025 9:13:40 AM (Elapsed Time: 1 minutes 13 seconds)<br></div><div id = 'default' /></div></div>"
      ],
      "text/plain": [
       "<Result 'C:/Users/JamieGood/OneDrive - Vaulted/Documents/VSCode/Data/MS.gdb/clipped_contours'>"
      ]
     },
     "execution_count": 6,
     "metadata": {},
     "output_type": "execute_result"
    }
   ],
   "source": [
    "arcpy.analysis.Clip(contours, boundary, clipped_contours)"
   ]
  },
  {
   "cell_type": "code",
   "execution_count": 7,
   "id": "b22fa075",
   "metadata": {},
   "outputs": [
    {
     "name": "stdout",
     "output_type": "stream",
     "text": [
      "['OBJECTID', 'Shape', 'ContourElevation', 'ContourUnits', 'FCODE', 'ContourInterval', 'Depression', 'IndexFlag', 'CELL_ID', 'ProcessDate', 'MapID', 'NEDResolution', 'NEDDate', 'Shape_Length']\n"
     ]
    }
   ],
   "source": [
    "fields = [f.name for f in arcpy.ListFields('Elev_Contours')]\n",
    "print(fields)"
   ]
  },
  {
   "cell_type": "code",
   "execution_count": 9,
   "id": "017e7e48",
   "metadata": {},
   "outputs": [],
   "source": [
    "contour_fc = 'Elev_Contours'\n",
    "fields = arcpy.ListFields(contour_fc)"
   ]
  },
  {
   "cell_type": "code",
   "execution_count": 10,
   "id": "ffb552d3",
   "metadata": {},
   "outputs": [
    {
     "name": "stdout",
     "output_type": "stream",
     "text": [
      "checking feature class: Elev_Contours\n",
      "available fields:\n",
      " - OBJECTID (OID)\n",
      " - Shape (Geometry)\n",
      " - ContourElevation (Double)\n",
      " - ContourUnits (Integer)\n",
      " - FCODE (Integer)\n",
      " - ContourInterval (Double)\n",
      " - Depression (SmallInteger)\n",
      " - IndexFlag (SmallInteger)\n",
      " - CELL_ID (Integer)\n",
      " - ProcessDate (Date)\n",
      " - MapID (String)\n",
      " - NEDResolution (SmallInteger)\n",
      " - NEDDate (Integer)\n",
      " - Shape_Length (Double)\n"
     ]
    }
   ],
   "source": [
    "print(f'checking feature class: {contour_fc}')\n",
    "print('available fields:')\n",
    "for field in fields: \n",
    "    print(f\" - {field.name} ({field.type})\")"
   ]
  },
  {
   "cell_type": "code",
   "execution_count": 11,
   "id": "2f7c3ffc",
   "metadata": {},
   "outputs": [],
   "source": [
    "if not arcpy.Exists('Elev_Contours'):\n",
    "    print(\"ElevContorus not found in workspace\")"
   ]
  },
  {
   "cell_type": "code",
   "execution_count": null,
   "id": "2e8b6489",
   "metadata": {},
   "outputs": [],
   "source": [
    "dem = TopoToRaster([\n",
    "    [\"Elev_Contours\", \"ContourElevation\", \"Contour\"]\n",
    "    ])\n",
    "# arcpy.env.mask = boundary\n",
    "# dem.save(output_DEM)\n",
    "# print(\"DEM created successfully\")"
   ]
  },
  {
   "cell_type": "markdown",
   "id": "8bdb5159",
   "metadata": {},
   "source": []
  },
  {
   "cell_type": "code",
   "execution_count": 34,
   "id": "1d8c7e9a",
   "metadata": {},
   "outputs": [
    {
     "name": "stdout",
     "output_type": "stream",
     "text": [
      "Elev_Contours\n"
     ]
    },
    {
     "data": {
      "text/html": [
       "<div class='gpresult'><h2 class='msg-title'>Messages</h2><div id='messages'>Start Time: Wednesday, April 16, 2025 8:45:29 AM<br>Succeeded at Wednesday, April 16, 2025 8:45:31 AM (Elapsed Time: 2.19 seconds)<br></div><div id = 'default' /></div></div>"
      ],
      "text/plain": [
       "<Result 'C:\\\\Users\\\\JamieGood\\\\OneDrive - Vaulted\\\\Documents\\\\VSCode\\\\Data\\\\MS.gdb\\\\stateBoundary'>"
      ]
     },
     "execution_count": 34,
     "metadata": {},
     "output_type": "execute_result"
    }
   ],
   "source": [
    "# Load MS USGS Surface Contours \n",
    "\n",
    "env.workspace = 'C:/Users/JamieGood/OneDrive - Vaulted/Documents/VSCode/Data/MS.gdb'\n",
    "feature_classes = arcpy.ListFeatureClasses()\n",
    "for fc in feature_classes:\n",
    "    print(fc)\n",
    "\n",
    "in_features ='C:/Users/JamieGood/OneDrive - Vaulted/Documents/VSCode/Data/Boundary/MS_StateBoundary_2015.shp'\n",
    "out_location = 'C:/Users/JamieGood/OneDrive - Vaulted/Documents/VSCode/Data/MS.gdb'\n",
    "out_name = \"stateBoundary\"\n",
    "arcpy.FeatureClassToFeatureClass_conversion(in_features, out_location, out_name)"
   ]
  },
  {
   "cell_type": "code",
   "execution_count": 35,
   "id": "0af00679",
   "metadata": {},
   "outputs": [
    {
     "ename": "RuntimeError",
     "evalue": "Cannot find field 'FieldName'",
     "output_type": "error",
     "traceback": [
      "\u001b[1;31m---------------------------------------------------------------------------\u001b[0m",
      "\u001b[1;31mRuntimeError\u001b[0m                              Traceback (most recent call last)",
      "Cell \u001b[1;32mIn[35], line 2\u001b[0m\n\u001b[0;32m      1\u001b[0m \u001b[38;5;28;01mwith\u001b[39;00m arcpy\u001b[38;5;241m.\u001b[39mda\u001b[38;5;241m.\u001b[39mSearchCursor(\u001b[38;5;124m\"\u001b[39m\u001b[38;5;124mElev_Contours\u001b[39m\u001b[38;5;124m\"\u001b[39m, [\u001b[38;5;124m\"\u001b[39m\u001b[38;5;124mSHAPE@\u001b[39m\u001b[38;5;124m\"\u001b[39m, \u001b[38;5;124m\"\u001b[39m\u001b[38;5;124mFieldName\u001b[39m\u001b[38;5;124m\"\u001b[39m]) \u001b[38;5;28;01mas\u001b[39;00m cursor: \n\u001b[1;32m----> 2\u001b[0m     \u001b[38;5;28;01mfor\u001b[39;00m row \u001b[38;5;129;01min\u001b[39;00m cursor: \n\u001b[0;32m      3\u001b[0m         geometry \u001b[38;5;241m=\u001b[39m row[\u001b[38;5;241m0\u001b[39m]\n\u001b[0;32m      4\u001b[0m         attribute_value \u001b[38;5;241m=\u001b[39m row[\u001b[38;5;241m1\u001b[39m]\n",
      "\u001b[1;31mRuntimeError\u001b[0m: Cannot find field 'FieldName'"
     ]
    }
   ],
   "source": [
    "with arcpy.da.SearchCursor(\"Elev_Contours\", [\"SHAPE@\", \"FieldName\"]) as cursor: \n",
    "    for row in cursor: \n",
    "        geometry = row[0]\n",
    "        attribute_value = row[1]\n",
    "        print(f\"SHape: {geometry.type}, Attribute: {attribute_value}\")"
   ]
  },
  {
   "cell_type": "code",
   "execution_count": null,
   "id": "003da78e",
   "metadata": {},
   "outputs": [],
   "source": [
    "# Set params for TopoToRaster\n",
    "\n",
    "TopoBoundary = ([state_boundary])\n",
    "TopoContour = ([surface_contours,'Elev_Contours'])"
   ]
  }
 ],
 "metadata": {
  "kernelspec": {
   "display_name": "Python 3",
   "language": "python",
   "name": "python3"
  },
  "language_info": {
   "codemirror_mode": {
    "name": "ipython",
    "version": 3
   },
   "file_extension": ".py",
   "mimetype": "text/x-python",
   "name": "python",
   "nbconvert_exporter": "python",
   "pygments_lexer": "ipython3",
   "version": "3.11.10"
  }
 },
 "nbformat": 4,
 "nbformat_minor": 5
}
